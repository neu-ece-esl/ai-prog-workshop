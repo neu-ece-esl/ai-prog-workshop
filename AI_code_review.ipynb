{
 "cells": [
  {
   "attachments": {},
   "cell_type": "markdown",
   "metadata": {},
   "source": [
    "# 🔍 Level 1: AI as a Code Review and Improvement Tool\n",
    "\n",
    "### 🎯 Objective:\n",
    "Learn how to use AI (e.g., ChatGPT) as a coach to review, debug, and improve existing code. This activity demonstrates how AI can support student learning through hint-driven feedback, error identification, and code optimization — without directly giving away the answer.\n"
   ]
  },
  {
   "attachments": {},
   "cell_type": "markdown",
   "metadata": {},
   "source": [
    "---\n",
    "\n",
    "## 🧠 Concept: AI for Code Review and Improvement\n",
    "\n",
    "In this activity, we explore how AI — such as ChatGPT — can be used to review existing code, identify bugs, and suggest improvements. Instead of using AI to *write* code from scratch, we focus on using it as a **coach** that helps students **understand**, **debug**, and **refactor** code they are already working with.\n",
    "\n",
    "---\n",
    "\n",
    "## 🎓 Pedagogical Framing\n",
    "\n",
    "The goal is not to let AI do the thinking for students, but rather to use it to **scaffold their problem-solving process**. When students encounter faulty code:\n",
    "\n",
    "- They're first encouraged to **analyze it themselves**.\n",
    "- Then, AI can be used to provide **targeted hints** or **explanations**.\n",
    "- Students are expected to **reflect on** and **critically evaluate** AI’s suggestions.\n",
    "\n",
    "This approach promotes:\n",
    "- Deeper understanding of algorithms and logic\n",
    "- Collaborative learning through discussion of AI output\n",
    "- A mindset of *debugging as discovery*, not just fixing\n"
   ]
  },
  {
   "attachments": {},
   "cell_type": "markdown",
   "metadata": {},
   "source": [
    "## 🟨 Step 3: Faulty Merge Sort Code (Code cell)"
   ]
  },
  {
   "cell_type": "code",
   "execution_count": null,
   "metadata": {},
   "outputs": [],
   "source": [
    "def merge_sort(arr):\n",
    "    if len(arr) <= 1:\n",
    "        return arr\n",
    "\n",
    "    mid = len(arr) // 2\n",
    "    left = merge_sort(arr[:mid])\n",
    "    right = merge_sort(arr[mid]) \n",
    "\n",
    "    return merge(left, right)\n",
    "\n",
    "def merge(left, right):\n",
    "    sorted_list = []\n",
    "    i = j = 0\n",
    "    while i < len(left) or j < len(right):\n",
    "        \n",
    "        if i < len(left) and (j >= len(right) or left[i] < right[j]):\n",
    "            sorted_list.append(left[i])\n",
    "            i += 1\n",
    "        else:\n",
    "            sorted_list.append(right[j])\n",
    "            j += 1\n",
    "\n",
    "    return sorted_list\n"
   ]
  },
  {
   "attachments": {},
   "cell_type": "markdown",
   "metadata": {},
   "source": [
    "---\n",
    "\n",
    "## 🤖 Suggested AI Prompt\n",
    "\n",
    "Once you've attempted to understand the code and identify possible bugs yourself, you may use the following prompt to ask an AI assistant (like ChatGPT) for help:\n",
    "\n",
    "> **Prompt:**\n",
    ">\n",
    "> “Can you review the following merge sort implementation and highlight any possible errors or inefficiencies? Please explain what is wrong, suggest corrections, and explain how the code can be made more efficient and robust.”\n",
    "\n",
    "Copy the full code above and paste it along with this prompt into ChatGPT or your AI tool of choice."
   ]
  },
  {
   "attachments": {},
   "cell_type": "markdown",
   "metadata": {},
   "source": [
    "---\n",
    "\n",
    "## 🤖 Sample AI Response (Summary)\n",
    "\n",
    "Here’s an example of how an AI assistant like ChatGPT might respond to your prompt:\n",
    "\n",
    "---\n",
    "\n",
    "### 🔍 Identified Issues\n",
    "\n",
    "1. **Incorrect Slice in Recursive Call**\n",
    "   - `right = merge_sort(arr[mid])` should be `arr[mid:]`.\n",
    "\n",
    "2. **Unsafe Loop Condition**\n",
    "   - `while i < len(left) or j < len(right)` should be `and` to avoid `IndexError`.\n",
    "\n",
    "3. **Missing Appending of Remaining Elements**\n",
    "   - Any unprocessed elements in `left` or `right` should be appended after the loop using:\n",
    "     ```python\n",
    "     sorted_list.extend(left[i:])\n",
    "     sorted_list.extend(right[j:])\n",
    "     ```\n",
    "\n",
    "---\n",
    "\n",
    "### ✅ Corrected Version (Brief)\n",
    "```python\n",
    "def merge_sort(arr):\n",
    "    if len(arr) <= 1:\n",
    "        return arr\n",
    "    mid = len(arr) // 2\n",
    "    left = merge_sort(arr[:mid])\n",
    "    right = merge_sort(arr[mid:])\n",
    "    return merge(left, right)\n",
    "\n",
    "def merge(left, right):\n",
    "    sorted_list = []\n",
    "    i = j = 0\n",
    "    while i < len(left) and j < len(right):\n",
    "        if left[i] < right[j]:\n",
    "            sorted_list.append(left[i])\n",
    "            i += 1\n",
    "        else:\n",
    "            sorted_list.append(right[j])\n",
    "            j += 1\n",
    "    sorted_list.extend(left[i:])\n",
    "    sorted_list.extend(right[j:])\n",
    "    return sorted_list\n"
   ]
  },
  {
   "attachments": {},
   "cell_type": "markdown",
   "metadata": {},
   "source": [
    "---\n",
    "\n",
    "## 💬 Reflection\n",
    "\n",
    "After you receive the AI's response, ask yourself:\n",
    "- Did the AI catch all the subtle bugs?\n",
    "- Do you understand *why* those bugs matter?\n",
    "- Can you think of edge cases that would cause the code to fail?\n",
    "- Would your students benefit from this kind of hint-driven support in your own teaching?\n",
    "- Do you agree with the AI reasoning?\n",
    "- what do you learn from this debugging task?"
   ]
  },
  {
   "attachments": {},
   "cell_type": "markdown",
   "metadata": {},
   "source": [
    "---\n",
    "\n",
    "## 🧑‍🏫 Instructor Activity: Designing an AI-Supported Code Review Task\n",
    "\n",
    "Now that you’ve explored how AI tools like ChatGPT can assist in identifying and improving faulty code, it’s your turn to step into the role of a learning designer.\n",
    "\n",
    "### 🎓 Your Task:\n",
    "Design a **classroom activity** where students use an AI assistant (e.g., ChatGPT) as a **code reviewer** to enhance their debugging, reasoning, and reflection skills.\n",
    "\n",
    "---\n",
    "\n",
    "### 💡 Design Considerations:\n",
    "\n",
    "#### 🔍 What kind of faulty code will you use?\n",
    "- An algorithm with subtle logic bugs?\n",
    "- An object-oriented implementation with structural issues?\n",
    "- A larger codebase with redundant or inefficient logic?\n",
    "\n",
    "#### 🤖 How will students interact with the AI?\n",
    "- To request **hints** or **partial feedback**?\n",
    "- To **compare their own debugging** with AI-generated suggestions?\n",
    "- To **evaluate the quality** and accuracy of AI's corrections?\n",
    "\n",
    "#### 🧠 How will you structure the learning process?\n",
    "- Will students try to fix the code manually before prompting the AI?\n",
    "- Will you design it as a **collaborative discussion** or peer review?\n",
    "- Will they use the AI’s responses as a base to **refactor, optimize, or document** the code?\n",
    "\n",
    "#### 🧩 What use cases or skills will this support?\n",
    "- Debugging and tracing subtle errors\n",
    "- Reverse engineering unfamiliar code\n",
    "- Navigating and understanding **large or poorly documented codebases**\n",
    "\n",
    "---\n",
    "\n",
    "### 📝 Suggested Output:\n",
    "\n",
    "Briefly outline your proposed classroom activity:\n",
    "\n",
    "- 📍 **Topic or Concept**: What course topic does this support?  \n",
    "- 💥 **Faulty Code Example**: What kind of bugs or issues will students investigate?  \n",
    "- 🤝 **AI Interaction**: How will students engage with the AI to support their thinking?  \n",
    "- 🎯 **Learning Outcomes**: What should students demonstrate or reflect on by the end?\n",
    "\n",
    "> This activity is a great opportunity to build something you can adapt for your course, especially if you teach algorithms, software design, or debugging strategy.\n"
   ]
  },
  {
   "attachments": {},
   "cell_type": "markdown",
   "metadata": {},
   "source": [
    "---\n",
    "\n",
    "---\n",
    "\n",
    "---"
   ]
  },
  {
   "cell_type": "markdown",
   "metadata": {},
   "source": []
  },
  {
   "cell_type": "markdown",
   "metadata": {},
   "source": []
  },
  {
   "cell_type": "markdown",
   "metadata": {},
   "source": []
  }
 ],
 "metadata": {
  "kernelspec": {
   "display_name": "Python 3",
   "language": "python",
   "name": "python3"
  },
  "language_info": {
   "name": "python",
   "version": "3.10.14 (main, Mar 19 2024, 21:46:16) [Clang 15.0.0 (clang-1500.1.0.2.5)]"
  },
  "orig_nbformat": 4,
  "vscode": {
   "interpreter": {
    "hash": "9dd135010ede4bf9ccdd87b397a51b842c0b4a2b79165bf2ed4611ba9ac58831"
   }
  }
 },
 "nbformat": 4,
 "nbformat_minor": 2
}
