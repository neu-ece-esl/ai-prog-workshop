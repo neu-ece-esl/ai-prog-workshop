{
 "cells": [
  {
   "attachments": {},
   "cell_type": "markdown",
   "metadata": {},
   "source": [
    "# 🚀 Level 2: Copilot Integration for Code Completion\n",
    "\n",
    "### 🎯 Objective:\n",
    "Explore how GitHub Copilot can support students during the coding process by suggesting context-aware completions, generating boilerplate code, and scaffolding code structures based on natural language prompts. This activity focuses on helping students engage more deeply with **design**, **testing**, and **debugging** by letting Copilot handle repetitive coding tasks.\n"
   ]
  },
  {
   "attachments": {},
   "cell_type": "markdown",
   "metadata": {},
   "source": [
    "---\n",
    "\n",
    "## 🎓 Pedagogical Framing\n",
    "\n",
    "GitHub Copilot isn't just a shortcut for writing code — it's a tool that can support how students **design** their solutions and express their **intent** clearly through code.\n",
    "\n",
    "Instructors can frame Copilot not as a solution engine, but as a collaborator in the design process:\n",
    "- Help students translate high-level **intent** (\"I want to cluster these points and visualize them\") into functional code.\n",
    "- Encourage learners to focus on the **design** of the overall solution rather than just syntax and boilerplate.\n",
    "\n",
    "This shifts the emphasis from *\"getting the code to run\"* to:\n",
    "- **Designing** robust, readable, and purposeful code\n",
    "- Reviewing Copilot's suggestions to ensure they align with the student's original **intent**\n",
    "- Making **critical decisions** about whether to accept, reject, or revise Copilot's completions\n",
    "\n",
    "Instructors can guide students to use Copilot in a way that reinforces understanding, promotes ownership of code, and supports the development of good coding practices rooted in **design thinking**.\n"
   ]
  },
  {
   "attachments": {},
   "cell_type": "markdown",
   "metadata": {},
   "source": [
    "---\n",
    "\n",
    "## 🧑‍🏫 Instructor Activity: Using Copilot for Code Completion and Design\n",
    "\n",
    "In this activity, you'll explore how to use GitHub Copilot to support your students during the **design phase** of programming — helping them scaffold code, generate utility functions, and translate their **intent** into structured implementations.\n",
    "\n",
    "---\n",
    "\n",
    "### 📊 Example Output: Cluster Visualization\n",
    "\n",
    "<img src=\"Media/Cluster.jpeg\" alt=\"Cluster Visualization\" width=\"600\"/>\n",
    "\n",
    "This scatter plot shows the result of clustering customers based on their annual income and spending score using KMeans. A typical classroom activity might involve students analyzing or reproducing such results.\n",
    "\n",
    "---\n",
    "\n",
    "### 🤖 Copilot in Action\n",
    "\n",
    "<img src=\"Media/copilot_intro.gif\" alt=\"Copilot Demo\" width=\"1000\"/>\n",
    "\n",
    "This GIF demonstrates how GitHub Copilot can autocomplete code when given a well-structured prompt. Students can use it to generate functions like:\n",
    "- `plot_cluster_distribution(df)`\n",
    "- `evaluate_clustering_quality(X_scaled, labels)`\n",
    "\n",
    "---\n",
    "\n",
    "### 🎯 Your Task\n",
    "\n",
    "Design a classroom activity where students:\n",
    "1. **Start from a partially written script** or data processing task.\n",
    "2. Use **Copilot to complete** functions, generate visualizations, or structure test code.\n",
    "3. Reflect on how closely Copilot's output matches their original **design intent**.\n",
    "\n",
    "---\n",
    "\n",
    "### 💬 Consider:\n",
    "- What kind of prompt would you give your students?\n",
    "- How would you ensure they're critically evaluating Copilot's suggestions?\n",
    "- Could this accelerate their ability to explore real-world datasets?\n",
    "\n"
   ]
  },
  {
   "attachments": {},
   "cell_type": "markdown",
   "metadata": {},
   "source": [
    "---\n",
    "\n",
    "## ✍️ Design Your Classroom Activity Using GitHub Copilot\n",
    "\n",
    "Use the prompts below to outline a potential activity where students use Copilot to support coding through **design**, **intent-driven completion**, or **automated structure generation**.\n",
    "\n",
    "---\n",
    "\n",
    "### 📌 Activity Title:\n",
    "(e.g., \"Visualizing Customer Segments with Copilot\")\n",
    "\n",
    "---\n",
    "\n",
    "### 🧠 Learning Objective:\n",
    "What should students understand, design, or build by the end of this activity?\n",
    "\n",
    "---\n",
    "\n",
    "### 📂 Starting Point / Scaffold:\n",
    "What starter code, dataset, or partially written function will you provide?\n",
    "\n",
    "---\n",
    "\n",
    "### 💬 Copilot Prompts Students Might Use:\n",
    "What natural language or inline code comments will guide Copilot’s suggestions?\n",
    "\n",
    "---\n",
    "\n",
    "### 🧪 Expected Copilot Outputs:\n",
    "What types of completions or functions do you anticipate Copilot will generate?\n",
    "\n",
    "---\n",
    "\n",
    "### 🎯 Assessment Focus:\n",
    "How will students demonstrate their understanding beyond just running AI-generated code?\n",
    "(e.g., debugging, editing, documentation, reflection)\n",
    "\n",
    "---\n",
    "\n",
    "### 📣 Notes for Facilitator:\n",
    "Optional tips on how you would guide students during this activity.\n",
    "\n"
   ]
  },
  {
   "cell_type": "markdown",
   "metadata": {},
   "source": []
  }
 ],
 "metadata": {
  "kernelspec": {
   "display_name": "Python 3",
   "language": "python",
   "name": "python3"
  },
  "language_info": {
   "codemirror_mode": {
    "name": "ipython",
    "version": 3
   },
   "file_extension": ".py",
   "mimetype": "text/x-python",
   "name": "python",
   "nbconvert_exporter": "python",
   "pygments_lexer": "ipython3",
   "version": "3.10.14 (main, Mar 19 2024, 21:46:16) [Clang 15.0.0 (clang-1500.1.0.2.5)]"
  },
  "orig_nbformat": 4,
  "vscode": {
   "interpreter": {
    "hash": "9dd135010ede4bf9ccdd87b397a51b842c0b4a2b79165bf2ed4611ba9ac58831"
   }
  }
 },
 "nbformat": 4,
 "nbformat_minor": 2
}
