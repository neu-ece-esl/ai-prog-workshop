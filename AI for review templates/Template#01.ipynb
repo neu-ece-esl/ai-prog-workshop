{
  "cells": [
    {
      "cell_type": "markdown",
      "id": "4c0a2bc5",
      "metadata": {
        "id": "4c0a2bc5"
      },
      "source": [
        "<h2 style=\"color:red;\"><strong> Debugging Object-Oriented Code in Python</strong></h2>\n",
        "\n",
        "### Student Learning Objectives\n",
        "\n",
        "**Leverage AI Tools for Code Review**  \n",
        "Students will effectively use AI tools (e.g., ChatGPT) to assist in debugging, understanding, and improving existing Python code.\n",
        "\n",
        "**Critically Evaluate AI Suggestions**  \n",
        "Students will assess the correctness and quality of AI-generated code recommendations and make informed decisions about when and how to apply them.\n",
        "\n",
        "**Develop Better Coding Habits**  \n",
        "Students will gain practical experience in writing cleaner, safer, and more maintainable Python code by combining manual reasoning with AI-assisted guidance.\n",
        "\n",
        "**Level Up Code Style Through Expert-Like Feedback**  \n",
        "By engaging with AI suggestions, students will experience a form of collaborative coding that mimics working with an advanced mentor—leading to more professional, readable, and efficient code practices.\n",
        "\n",
        "<br>\n",
        "\n",
        "<div style=\"background-color:#e6ffe6; padding:10px; border-radius:6px; font-weight:bold; font-size:16px;\">\n",
        " <strong>Scenario</strong>\n",
        "</div>\n",
        "\n",
        "In this scenario, a simple `BankAccount` class is provided with minor bugs and structural issues. Please review the class to identify any logic errors or design flaws. Then, refactor it using object-oriented best practices, including:\n",
        "- Encapsulation  \n",
        "- Input validation  \n",
        "- Returning values instead of printing directly  \n",
        "\n",
        " <strong>Hint:</strong> You can ask AI tools like ChatGPT to help you identify and fix logic errors or design flaws.\n",
        "\n"
      ]
    },
    {
      "cell_type": "code",
      "execution_count": null,
      "id": "f7749ec4",
      "metadata": {
        "id": "f7749ec4"
      },
      "outputs": [],
      "source": [
        "# Step 1: Original Buggy Code\n",
        "\n",
        "class BankAccount:\n",
        "    def __init__(self, owner, balance=0):\n",
        "        self.owner = owner\n",
        "        self.balance = balance\n",
        "\n",
        "    def deposit(self, amount):\n",
        "        self.balance += amount\n",
        "        print(f\"Deposited {amount}. New balance is {self.balance}\")\n",
        "\n",
        "    def withdraw(self, amount):\n",
        "        if amount > self.balance:\n",
        "            print(\"Insufficient funds\")\n",
        "        self.balance -= amount\n",
        "        print(f\"Withdrew {amount}. New balance is {self.balance}\")\n",
        "\n",
        "    def display_balance(self):\n",
        "        print(f\"{self.owner}'s balance: {self.balance}\")\n",
        "\n",
        "# Run the code\n",
        "account = BankAccount(\"Alice\", 100)\n",
        "account.withdraw(150)  #  Should NOT allow this!\n",
        "account.display_balance()"
      ]
    },
    {
      "cell_type": "markdown",
      "id": "04f38793",
      "metadata": {
        "id": "04f38793"
      },
      "source": [
        "<div style=\"background-color:#e6ffe6; padding:10px; border-radius:6px; font-weight:bold; font-size:16px;\">\n",
        "<strong>Prompt for ChatGPT</strong>\n",
        "</div>\n",
        "\n",
        "<em>\"Please review this Python class and identify any logic bugs or design flaws.\"</em>\n"
      ]
    },
    {
      "cell_type": "code",
      "execution_count": null,
      "id": "ac3a2459",
      "metadata": {
        "id": "ac3a2459"
      },
      "outputs": [],
      "source": [
        "# Step 2: Improved Version (ChatGPT Output Simulation)\n",
        "\n",
        "class BankAccount:\n",
        "    def __init__(self, owner, balance=0):\n",
        "        self._owner = owner\n",
        "        self._balance = balance\n",
        "\n",
        "    def deposit(self, amount):\n",
        "        if amount <= 0:\n",
        "            raise ValueError(\"Deposit amount must be positive.\")\n",
        "        self._balance += amount\n",
        "        return self._balance\n",
        "\n",
        "    def withdraw(self, amount):\n",
        "        if amount <= 0:\n",
        "            raise ValueError(\"Withdrawal amount must be positive.\")\n",
        "        if amount > self._balance:\n",
        "            raise ValueError(\"Insufficient funds.\")\n",
        "        self._balance -= amount\n",
        "        return self._balance\n",
        "\n",
        "    def get_balance(self):\n",
        "        return self._balance\n",
        "\n",
        "    def get_owner(self):\n",
        "        return self._owner\n",
        "\n",
        "# Run improved code\n",
        "account = BankAccount(\"Alice\", 100)\n",
        "try:\n",
        "    account.withdraw(150)  # Should raise an error\n",
        "except ValueError as e:\n",
        "    print(f\"Error: {e}\")\n",
        "print(f\"Current balance: {account.get_balance()}\")"
      ]
    }
  ],
  "metadata": {
    "colab": {
      "provenance": []
    },
    "kernelspec": {
      "display_name": "Python 3",
      "name": "python3"
    },
    "language_info": {
      "name": "python"
    }
  },
  "nbformat": 4,
  "nbformat_minor": 5
}